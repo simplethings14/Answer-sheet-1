{
  "cells": [
    {
      "cell_type": "code",
      "source": [
        "# (1)\n",
        "name = \"lucky\"\n",
        "print(name)"
      ],
      "metadata": {
        "colab": {
          "base_uri": "https://localhost:8080/"
        },
        "id": "Mto5MdUFmTHC",
        "outputId": "2e1ed38f-8d6b-469e-c668-8ca0ebaf8a92"
      },
      "id": "Mto5MdUFmTHC",
      "execution_count": 4,
      "outputs": [
        {
          "output_type": "stream",
          "name": "stdout",
          "text": [
            "lucky\n"
          ]
        }
      ]
    },
    {
      "cell_type": "code",
      "source": [
        "# (2)\n",
        "name = \"hello world\"\n",
        "print(len(\"hello world\"))"
      ],
      "metadata": {
        "colab": {
          "base_uri": "https://localhost:8080/"
        },
        "id": "52v1NdtGmFLC",
        "outputId": "84030a6a-0fc3-4952-a855-e2af2a997e39"
      },
      "id": "52v1NdtGmFLC",
      "execution_count": 3,
      "outputs": [
        {
          "output_type": "stream",
          "name": "stdout",
          "text": [
            "11\n"
          ]
        }
      ]
    },
    {
      "cell_type": "code",
      "source": [
        "#(3)\n",
        "program = \"python programing\"\n",
        "print(program[:3])"
      ],
      "metadata": {
        "id": "shjCPNJbmjVd"
      },
      "id": "shjCPNJbmjVd",
      "execution_count": null,
      "outputs": []
    },
    {
      "cell_type": "code",
      "source": [
        "#(4)\n",
        "word = \"hello\"\n",
        "word.upper()"
      ],
      "metadata": {
        "colab": {
          "base_uri": "https://localhost:8080/",
          "height": 35
        },
        "id": "bj0V_XrYnHIn",
        "outputId": "92c17c83-8f36-440d-a87c-63086863079c"
      },
      "id": "bj0V_XrYnHIn",
      "execution_count": 13,
      "outputs": [
        {
          "output_type": "execute_result",
          "data": {
            "text/plain": [
              "'HELLO'"
            ],
            "application/vnd.google.colaboratory.intrinsic+json": {
              "type": "string"
            }
          },
          "metadata": {},
          "execution_count": 13
        }
      ]
    },
    {
      "cell_type": "code",
      "source": [
        "#(5)\n",
        "string = \"I like apple\"\n",
        "string.replace(\"apple\",\"orange\")"
      ],
      "metadata": {
        "colab": {
          "base_uri": "https://localhost:8080/",
          "height": 35
        },
        "id": "PGs0WQAenw1K",
        "outputId": "de79bf45-1e3c-4924-d70e-188f13154862"
      },
      "id": "PGs0WQAenw1K",
      "execution_count": 14,
      "outputs": [
        {
          "output_type": "execute_result",
          "data": {
            "text/plain": [
              "'I like orange'"
            ],
            "application/vnd.google.colaboratory.intrinsic+json": {
              "type": "string"
            }
          },
          "metadata": {},
          "execution_count": 14
        }
      ]
    },
    {
      "cell_type": "code",
      "source": [
        "#(6)\n",
        "number_list = [i for i in range(1, 6) ]\n",
        "print(number_list)"
      ],
      "metadata": {
        "colab": {
          "base_uri": "https://localhost:8080/"
        },
        "id": "AY4vBUP8oIym",
        "outputId": "eeab021d-058a-41ef-f436-2393a091fa28"
      },
      "id": "AY4vBUP8oIym",
      "execution_count": 29,
      "outputs": [
        {
          "output_type": "stream",
          "name": "stdout",
          "text": [
            "[1, 2, 3, 4, 5]\n"
          ]
        }
      ]
    },
    {
      "cell_type": "code",
      "source": [
        "#(7)\n",
        "a = [1,2,3,4]\n",
        "a.append(10)\n",
        "print(a)"
      ],
      "metadata": {
        "colab": {
          "base_uri": "https://localhost:8080/"
        },
        "id": "872DFaGIpNfJ",
        "outputId": "6a5e1d8a-c0bc-4cec-b154-66d33b6ea1a6"
      },
      "id": "872DFaGIpNfJ",
      "execution_count": 48,
      "outputs": [
        {
          "output_type": "stream",
          "name": "stdout",
          "text": [
            "[1, 2, 3, 4, 10]\n"
          ]
        }
      ]
    },
    {
      "cell_type": "code",
      "source": [
        "#(8)\n",
        "t = [1, 2, 3, 4, 5]\n",
        "t.remove(3)\n",
        "print(t)"
      ],
      "metadata": {
        "colab": {
          "base_uri": "https://localhost:8080/"
        },
        "id": "y6TwaZkZsjnY",
        "outputId": "7c988a83-9538-4bb5-ca10-ab1d2399c6d7"
      },
      "id": "y6TwaZkZsjnY",
      "execution_count": 49,
      "outputs": [
        {
          "output_type": "stream",
          "name": "stdout",
          "text": [
            "[1, 2, 4, 5]\n"
          ]
        }
      ]
    },
    {
      "cell_type": "code",
      "source": [
        "#(9)\n",
        "l =  ['a', 'b', 'c', 'd']\n",
        "print(l[1])"
      ],
      "metadata": {
        "colab": {
          "base_uri": "https://localhost:8080/"
        },
        "id": "WNRVrKA4s9tO",
        "outputId": "dddfe551-9c13-43b2-fa4e-b04e9f1c9fe1"
      },
      "id": "WNRVrKA4s9tO",
      "execution_count": 50,
      "outputs": [
        {
          "output_type": "stream",
          "name": "stdout",
          "text": [
            "b\n"
          ]
        }
      ]
    },
    {
      "cell_type": "code",
      "source": [
        "#(10)\n",
        "r = [10, 20, 30, 40, 50]\n",
        "print(r[::-1])"
      ],
      "metadata": {
        "colab": {
          "base_uri": "https://localhost:8080/"
        },
        "id": "gedXlsRvtlCB",
        "outputId": "76c4bcb2-1e99-40ab-e0b2-93854006cb73"
      },
      "id": "gedXlsRvtlCB",
      "execution_count": 52,
      "outputs": [
        {
          "output_type": "stream",
          "name": "stdout",
          "text": [
            "[50, 40, 30, 20, 10]\n"
          ]
        }
      ]
    },
    {
      "cell_type": "code",
      "source": [
        "#(11)\n",
        "a =  (100, 200, 300)\n",
        "print(type(a))"
      ],
      "metadata": {
        "colab": {
          "base_uri": "https://localhost:8080/"
        },
        "id": "pV7kOwn4uGhg",
        "outputId": "29560907-963f-48ad-cd70-f77de307a2a7"
      },
      "id": "pV7kOwn4uGhg",
      "execution_count": 55,
      "outputs": [
        {
          "output_type": "stream",
          "name": "stdout",
          "text": [
            "<class 'tuple'>\n"
          ]
        }
      ]
    },
    {
      "cell_type": "code",
      "source": [
        "#(12)\n",
        "my_tuple = ('red', 'green', 'blue', 'yellow')\n",
        "my_tuple[2:]\n"
      ],
      "metadata": {
        "colab": {
          "base_uri": "https://localhost:8080/"
        },
        "id": "Juf3a9D-vhaH",
        "outputId": "952b2b17-203f-4bbb-8ad6-5857dee5c45e"
      },
      "id": "Juf3a9D-vhaH",
      "execution_count": 62,
      "outputs": [
        {
          "output_type": "execute_result",
          "data": {
            "text/plain": [
              "('blue', 'yellow')"
            ]
          },
          "metadata": {},
          "execution_count": 62
        }
      ]
    },
    {
      "cell_type": "code",
      "source": [
        "#(13)\n",
        "my_tuple1 = (10, 20, 5, 15)\n",
        "min(my_tuple1)\n"
      ],
      "metadata": {
        "colab": {
          "base_uri": "https://localhost:8080/"
        },
        "id": "CM-0V5VQwSRN",
        "outputId": "4f94a980-2043-41f8-caa6-fead15bf56c6"
      },
      "id": "CM-0V5VQwSRN",
      "execution_count": 67,
      "outputs": [
        {
          "output_type": "execute_result",
          "data": {
            "text/plain": [
              "5"
            ]
          },
          "metadata": {},
          "execution_count": 67
        }
      ]
    },
    {
      "cell_type": "code",
      "source": [
        "#(14)\n",
        "animal = ('dog', 'cat', 'rabbit')\n",
        "\n",
        "animal.index('cat')"
      ],
      "metadata": {
        "colab": {
          "base_uri": "https://localhost:8080/"
        },
        "id": "Tn0xLQOGwS-d",
        "outputId": "d1cc0e8f-1bfe-4b6f-e18a-b212eb5d371d"
      },
      "id": "Tn0xLQOGwS-d",
      "execution_count": 75,
      "outputs": [
        {
          "output_type": "execute_result",
          "data": {
            "text/plain": [
              "1"
            ]
          },
          "metadata": {},
          "execution_count": 75
        }
      ]
    },
    {
      "cell_type": "code",
      "source": [
        "#(15)\n",
        "fruit = (\"mango\", \"apple\", \"kiwi\")\n",
        "\n",
        "\n",
        "if \"cat\" in animal:\n",
        "    print(True)\n",
        "else:\n",
        "    print(False)"
      ],
      "metadata": {
        "colab": {
          "base_uri": "https://localhost:8080/"
        },
        "id": "s2RLGb8vwS3F",
        "outputId": "95cc8658-cb71-4b6c-c0c8-caa29794abef"
      },
      "id": "s2RLGb8vwS3F",
      "execution_count": 88,
      "outputs": [
        {
          "output_type": "stream",
          "name": "stdout",
          "text": [
            "True\n"
          ]
        }
      ]
    },
    {
      "cell_type": "code",
      "source": [
        "#(16)\n",
        "my_set = {'a', 'b', 'c'}\n",
        "print(my_set)"
      ],
      "metadata": {
        "colab": {
          "base_uri": "https://localhost:8080/"
        },
        "id": "E6hcRqjLwTEG",
        "outputId": "25620849-0d8b-433e-ef1d-db54a5ac528d"
      },
      "id": "E6hcRqjLwTEG",
      "execution_count": 89,
      "outputs": [
        {
          "output_type": "stream",
          "name": "stdout",
          "text": [
            "{'a', 'b', 'c'}\n"
          ]
        }
      ]
    },
    {
      "cell_type": "code",
      "source": [
        "#(17)\n",
        "the_set = {1, 2, 3, 4, 5}\n",
        "the_set.clear()\n",
        "\n"
      ],
      "metadata": {
        "colab": {
          "base_uri": "https://localhost:8080/"
        },
        "id": "CJcL8ucZwTI9",
        "outputId": "7991160a-a79a-4e0f-8322-583f449fe326"
      },
      "id": "CJcL8ucZwTI9",
      "execution_count": 92,
      "outputs": [
        {
          "output_type": "execute_result",
          "data": {
            "text/plain": [
              "{1, 2, 3, 4, 5}"
            ]
          },
          "metadata": {},
          "execution_count": 92
        }
      ]
    },
    {
      "cell_type": "code",
      "source": [
        "#(17)\n",
        "the_set = {1, 2, 3, 4, 5}\n",
        "the_set.clear()\n",
        "the_set"
      ],
      "metadata": {
        "colab": {
          "base_uri": "https://localhost:8080/"
        },
        "id": "Pi1egiiv1Ydt",
        "outputId": "d33b9f6c-4a8e-4cb3-cb21-da1da9eb17c5"
      },
      "id": "Pi1egiiv1Ydt",
      "execution_count": 94,
      "outputs": [
        {
          "output_type": "execute_result",
          "data": {
            "text/plain": [
              "set()"
            ]
          },
          "metadata": {},
          "execution_count": 94
        }
      ]
    },
    {
      "cell_type": "code",
      "source": [
        "#(18)\n",
        "The_set = {1, 2, 3, 4}\n",
        "The_set.remove(4)\n",
        "The_set"
      ],
      "metadata": {
        "colab": {
          "base_uri": "https://localhost:8080/"
        },
        "id": "_F1-0_Gj1ocL",
        "outputId": "45d0861d-302e-469d-da5a-fb76f4a73f10"
      },
      "id": "_F1-0_Gj1ocL",
      "execution_count": 97,
      "outputs": [
        {
          "output_type": "execute_result",
          "data": {
            "text/plain": [
              "{1, 2, 3}"
            ]
          },
          "metadata": {},
          "execution_count": 97
        }
      ]
    },
    {
      "cell_type": "code",
      "source": [
        "#(19)\n",
        "one_set = {1, 2, 3}\n",
        "two_set = {3, 4, 5}\n",
        "one_set.union(two_set)"
      ],
      "metadata": {
        "colab": {
          "base_uri": "https://localhost:8080/"
        },
        "id": "rEIYDc0M1oU9",
        "outputId": "42e2bf84-b749-4bb5-aea8-812d83a80f88"
      },
      "id": "rEIYDc0M1oU9",
      "execution_count": 101,
      "outputs": [
        {
          "output_type": "execute_result",
          "data": {
            "text/plain": [
              "{1, 2, 3, 4, 5}"
            ]
          },
          "metadata": {},
          "execution_count": 101
        }
      ]
    },
    {
      "cell_type": "code",
      "source": [
        "#(20)\n",
        "one_set = {1, 2, 3}\n",
        "two_set = {2, 3, 4}\n",
        "one_set.intersection(two_set)"
      ],
      "metadata": {
        "colab": {
          "base_uri": "https://localhost:8080/"
        },
        "id": "zfNMO8Vs2I3L",
        "outputId": "a6f50ed6-ce31-48a4-9e52-c933a80a9009"
      },
      "id": "zfNMO8Vs2I3L",
      "execution_count": 102,
      "outputs": [
        {
          "output_type": "execute_result",
          "data": {
            "text/plain": [
              "{2, 3}"
            ]
          },
          "metadata": {},
          "execution_count": 102
        }
      ]
    },
    {
      "cell_type": "code",
      "source": [
        "#(21)\n",
        "my_dic = {\"name\": \"lucky\" , \"age\" : 20 , \"city\": \"pune\"}\n",
        "print(my_dic)"
      ],
      "metadata": {
        "colab": {
          "base_uri": "https://localhost:8080/"
        },
        "id": "qqCxYVof2Iy0",
        "outputId": "2b8501e6-a557-4145-cb57-15dc26081741"
      },
      "id": "qqCxYVof2Iy0",
      "execution_count": 104,
      "outputs": [
        {
          "output_type": "execute_result",
          "data": {
            "text/plain": [
              "{'name': 'lucky', 'age': 20, 'city': 'pune'}"
            ]
          },
          "metadata": {},
          "execution_count": 104
        }
      ]
    },
    {
      "cell_type": "code",
      "source": [
        "#(22)\n",
        "the_dict = {'name': 'John', 'age': 25}\n",
        "the_dict.update({\"country\":\"USA\"})\n",
        "the_dict"
      ],
      "metadata": {
        "colab": {
          "base_uri": "https://localhost:8080/"
        },
        "id": "YHXtffmp3zKE",
        "outputId": "bad497c4-2a3d-4670-e047-165bf5f75306"
      },
      "id": "YHXtffmp3zKE",
      "execution_count": 121,
      "outputs": [
        {
          "output_type": "execute_result",
          "data": {
            "text/plain": [
              "{'name': 'John', 'age': 25, 'country': 'USA'}"
            ]
          },
          "metadata": {},
          "execution_count": 121
        }
      ]
    },
    {
      "cell_type": "code",
      "source": [
        "#(23)\n",
        "the_dictionary = {'name': 'Alice', 'age': 30}\n",
        "the_dictionary.get('name')"
      ],
      "metadata": {
        "colab": {
          "base_uri": "https://localhost:8080/",
          "height": 35
        },
        "id": "2BWgEdJ55bxZ",
        "outputId": "1390fbb5-06fa-4574-b9de-7b8b8eee3ddf"
      },
      "id": "2BWgEdJ55bxZ",
      "execution_count": 124,
      "outputs": [
        {
          "output_type": "execute_result",
          "data": {
            "text/plain": [
              "'Alice'"
            ],
            "application/vnd.google.colaboratory.intrinsic+json": {
              "type": "string"
            }
          },
          "metadata": {},
          "execution_count": 124
        }
      ]
    },
    {
      "cell_type": "code",
      "source": [
        " #(24)\n",
        " the_dic1 = {'name': 'Bob', 'age': 22, 'city': 'New York'}\n",
        " the_dic1.pop(\"age\")\n",
        " the_dic1"
      ],
      "metadata": {
        "colab": {
          "base_uri": "https://localhost:8080/"
        },
        "id": "KOSs4GFt3zEc",
        "outputId": "b5b167bc-44e7-4571-be80-49b1afac7d10"
      },
      "id": "KOSs4GFt3zEc",
      "execution_count": 170,
      "outputs": [
        {
          "output_type": "execute_result",
          "data": {
            "text/plain": [
              "{'name': 'Bob', 'city': 'New York'}"
            ]
          },
          "metadata": {},
          "execution_count": 170
        }
      ]
    },
    {
      "cell_type": "code",
      "source": [
        "#(25)(a)\n",
        "the_dict = {'name': 'Alice', 'city': 'Paris'}\n",
        "if 'city' in the_dict:\n",
        "    print(True)\n",
        "else:\n",
        "  print(False)\n",
        "\n"
      ],
      "metadata": {
        "colab": {
          "base_uri": "https://localhost:8080/"
        },
        "id": "q-7dr1YF7Rsg",
        "outputId": "0fed73e2-82e1-43a6-9981-75d6c48ca535"
      },
      "id": "q-7dr1YF7Rsg",
      "execution_count": 169,
      "outputs": [
        {
          "output_type": "stream",
          "name": "stdout",
          "text": [
            "True\n"
          ]
        }
      ]
    },
    {
      "cell_type": "code",
      "source": [
        "#(25)(b)\n",
        "the_dict1 = {'name': 'Alice', 'city': 'Paris'}\n",
        "exists = 'city'\n",
        "exists in the_dict1\n"
      ],
      "metadata": {
        "colab": {
          "base_uri": "https://localhost:8080/"
        },
        "id": "FUgWPp-M9Cca",
        "outputId": "1f903537-7653-402c-e5c2-3ed40649bf81"
      },
      "id": "FUgWPp-M9Cca",
      "execution_count": 141,
      "outputs": [
        {
          "output_type": "execute_result",
          "data": {
            "text/plain": [
              "True"
            ]
          },
          "metadata": {},
          "execution_count": 141
        }
      ]
    },
    {
      "cell_type": "code",
      "source": [
        "#(26)\n",
        "my_list = [1, 2, 3, \"apple\", \"banana\"]\n",
        "\n",
        "my_tuple = (4, 5, 6, \"orange\", \"grape\")\n",
        "\n",
        "my_dictionary = {\n",
        "    \"name\": \"Alice\",\n",
        "    \"age\": 30,\n",
        "    \"city\": \"New York\"\n",
        "}\n",
        "print(my_list)\n",
        "\n",
        "print(my_tuple)\n",
        "\n",
        "print(my_dictionary)"
      ],
      "metadata": {
        "colab": {
          "base_uri": "https://localhost:8080/"
        },
        "id": "4APMNhLA-WXH",
        "outputId": "29f95a09-dda2-45d6-9a53-6aebe42f0fbe"
      },
      "id": "4APMNhLA-WXH",
      "execution_count": 144,
      "outputs": [
        {
          "output_type": "stream",
          "name": "stdout",
          "text": [
            "[1, 2, 3, 'apple', 'banana']\n",
            "My Tuple: (4, 5, 6, 'orange', 'grape')\n",
            "My Dictionary: {'name': 'Alice', 'age': 30, 'city': 'New York'}\n"
          ]
        }
      ]
    },
    {
      "cell_type": "code",
      "source": [
        "#(27)\n",
        "import random\n",
        "random_list = [random.randint(1, 100) for _ in range(5)]\n",
        "sorted_list = sorted(random_list)\n",
        "print(\"Random sorted list:\", sorted_list)\n",
        "\n",
        "\n"
      ],
      "metadata": {
        "colab": {
          "base_uri": "https://localhost:8080/"
        },
        "id": "v5bf8ScI-vNm",
        "outputId": "2bd01a1f-3e19-431d-9439-a2f414992e60"
      },
      "id": "v5bf8ScI-vNm",
      "execution_count": 168,
      "outputs": [
        {
          "output_type": "stream",
          "name": "stdout",
          "text": [
            "Random sorted list: [6, 12, 27, 40, 78]\n"
          ]
        }
      ]
    },
    {
      "cell_type": "code",
      "source": [
        "#(28)\n",
        "my_list = [\"cow\",\"dog\",\"cat\",\"mouse\"]\n",
        "print(my_list[3])"
      ],
      "metadata": {
        "colab": {
          "base_uri": "https://localhost:8080/"
        },
        "id": "lLORzmkJMdkQ",
        "outputId": "93b84e9f-a67c-481e-dfc1-7d3a4f909fda"
      },
      "id": "lLORzmkJMdkQ",
      "execution_count": 150,
      "outputs": [
        {
          "output_type": "stream",
          "name": "stdout",
          "text": [
            "mouse\n"
          ]
        }
      ]
    },
    {
      "cell_type": "code",
      "source": [
        "#(29)\n",
        "my_dictionary1 = {'name': 'Alice', 'age': 30}\n",
        "my_dictionary2 = {'city':'paris','country':'france'}\n",
        "my_dictionary1.update(my_dictionary2)\n",
        "print(my_dictionary1)"
      ],
      "metadata": {
        "colab": {
          "base_uri": "https://localhost:8080/"
        },
        "id": "RDkZMOhcMgPc",
        "outputId": "3d80652c-8b53-4281-ef7c-81da88c9cfa6"
      },
      "id": "RDkZMOhcMgPc",
      "execution_count": 152,
      "outputs": [
        {
          "output_type": "stream",
          "name": "stdout",
          "text": [
            "{'name': 'Alice', 'age': 30, 'city': 'paris', 'country': 'france'}\n"
          ]
        }
      ]
    },
    {
      "cell_type": "code",
      "source": [
        "#(30)\n",
        "my_list1 = [\"goa\",\"manali\",\"ladakh\"]\n",
        "my_list1 = set(my_list1)\n",
        "print(my_list1)\n"
      ],
      "metadata": {
        "colab": {
          "base_uri": "https://localhost:8080/"
        },
        "id": "3MIjmCMYNocq",
        "outputId": "1616848e-0107-492e-e527-0fd0739d8d71"
      },
      "id": "3MIjmCMYNocq",
      "execution_count": 167,
      "outputs": [
        {
          "output_type": "stream",
          "name": "stdout",
          "text": [
            "{'goa', 'manali', 'ladakh'}\n"
          ]
        }
      ]
    },
    {
      "cell_type": "code",
      "source": [],
      "metadata": {
        "id": "sLiqw8g0Pso2"
      },
      "id": "sLiqw8g0Pso2",
      "execution_count": null,
      "outputs": []
    }
  ],
  "metadata": {
    "kernelspec": {
      "display_name": "Python 3",
      "name": "python3"
    },
    "language_info": {
      "name": "python"
    },
    "required_libs": [],
    "colab": {
      "provenance": [],
      "toc_visible": true
    }
  },
  "nbformat": 4,
  "nbformat_minor": 5
}