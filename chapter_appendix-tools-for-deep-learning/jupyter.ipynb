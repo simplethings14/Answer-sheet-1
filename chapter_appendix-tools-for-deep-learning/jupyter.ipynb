{
  "cells": [
    {
      "cell_type": "code",
      "source": [
        "#(1)\n",
        "class Animal():\n",
        "  def animal_speak(self):\n",
        "    print(\"animal makes sound\")\n",
        "class Dog(animal):\n",
        "  def dog_speak(self):\n",
        "    print(\"bark\")\n",
        "\n",
        "obj = Dog()\n",
        "obj.dog_speak()\n"
      ],
      "metadata": {
        "id": "6rK1DjFAlQ6V",
        "outputId": "a3bf730d-89a5-4655-ce64-585314b1a3ce",
        "colab": {
          "base_uri": "https://localhost:8080/"
        }
      },
      "id": "6rK1DjFAlQ6V",
      "execution_count": 11,
      "outputs": [
        {
          "output_type": "stream",
          "name": "stdout",
          "text": [
            "bark\n"
          ]
        }
      ]
    },
    {
      "cell_type": "code",
      "source": [
        "#(2)\n",
        "class Shape():\n",
        "  def method_area(self):\n",
        "    print(\"area of shape\")\n",
        "class Circle(Shape):\n",
        "  def circle_area(self):\n",
        "    print(\"area of a circle is 2*3.14*r\")\n",
        "class Rectangle(Shape):\n",
        "  def rectangle(self):\n",
        "    print(\"area of rectangle is l*b\")\n",
        "\n",
        "shape = Shape()\n",
        "cirle = Circle()\n",
        "rectangle = Rectangle()\n",
        ""
      ],
      "metadata": {
        "id": "qMKCS0odn7H8"
      },
      "id": "qMKCS0odn7H8",
      "execution_count": 19,
      "outputs": []
    },
    {
      "cell_type": "code",
      "source": [
        "#(3)[a]\n",
        "class Vehicle():\n",
        "  def __init__(self,vehicle_type):\n",
        "    self.vehicle_type = vehicle_type\n",
        "\n",
        "  def display_info(self):\n",
        "    print(f\"this is a {self.vehicle_type} vehicle\")\n",
        "\n",
        "class Car(Vehicle):\n",
        "  def __init__(self,vehicle_type, model_type):\n",
        "    super().__init__(vehicle_type)\n",
        "    self.model_type = model_type\n",
        "\n",
        "  def display_car_info(self):\n",
        "    self.display_info()\n",
        "    print(f\"the name is :{self.model_type}\")\n",
        "\n",
        "class ElectricCar(Car):\n",
        "  def __init__(self, vehicle_type, model_type, battery_capacity):\n",
        "    super().__init__(vehicle_type, model_type)\n",
        "    self.battery_capacity = battery_capacity\n",
        "\n",
        "  def display_electric_car_info(self):\n",
        "    self.display_car_info()\n",
        "    print(f\"battery capacity : {self.battery_capacity}\")\n",
        "\n",
        "car1 = ElectricCar(\"electric\",\"tesla\", 100)\n",
        "car1.display_electric_car_info()\n"
      ],
      "metadata": {
        "id": "H038D7Z0pi58",
        "outputId": "e1cf5d94-58df-420e-929b-72b0445ac143",
        "colab": {
          "base_uri": "https://localhost:8080/"
        }
      },
      "id": "H038D7Z0pi58",
      "execution_count": 33,
      "outputs": [
        {
          "output_type": "stream",
          "name": "stdout",
          "text": [
            "this is a electric vehicle\n",
            "the name is :tesla\n",
            "battery capacity : 100\n"
          ]
        }
      ]
    },
    {
      "cell_type": "code",
      "source": [
        "#(3)(B)\n",
        "class Vehicle():\n",
        "  def __init__(self,vehicle_type):\n",
        "    self.vehicle_type = vehicle_type\n",
        "\n",
        "  def display_info(self):\n",
        "    print(f\"this is a {self.vehicle_type} vehicle\")\n",
        "\n",
        "class Car(Vehicle):\n",
        "  def __init__(self,vehicle_type, model_type):\n",
        "    super().__init__(vehicle_type)\n",
        "    self.model_type = model_type\n",
        "\n",
        "  def display_info(self):\n",
        "    super().display_info()\n",
        "    print(f\"the name is :{self.model_type}\")\n",
        "\n",
        "class ElectricCar(Car):\n",
        "  def __init__(self, vehicle_type, model_type, battery_capacity):\n",
        "    super().__init__(vehicle_type, model_type)\n",
        "    self.battery_capacity = battery_capacity\n",
        "\n",
        "  def display_info(self):\n",
        "    super().display_info()\n",
        "    print(f\"battery capacity : {self.battery_capacity}\")\n",
        "\n",
        "car1 = ElectricCar(\"electric\",\"tesla\", 100)\n",
        "car1.display_info()"
      ],
      "metadata": {
        "id": "e0Exc-o7tgRQ",
        "outputId": "1cb11273-664b-44a2-ac0a-20a72f5ebd59",
        "colab": {
          "base_uri": "https://localhost:8080/"
        }
      },
      "id": "e0Exc-o7tgRQ",
      "execution_count": 38,
      "outputs": [
        {
          "output_type": "stream",
          "name": "stdout",
          "text": [
            "this is a electric vehicle\n",
            "the name is :tesla\n",
            "battery capacity : 100\n"
          ]
        }
      ]
    },
    {
      "cell_type": "code",
      "source": [
        "#(4)\n",
        "class Birds():\n",
        "  def fly(self):\n",
        "    print(\"This bird can fly \")\n",
        "class Sparrow(Birds):\n",
        "  def fly(self,):\n",
        "    print(\" sparrow gracefully fly through the sky \")\n",
        "class penguin(Birds):\n",
        "  def fly(self):\n",
        "    print(\"penguins cannot fly, they waddle and swim \")\n",
        "\n",
        "\n",
        "birds1 = Birds()\n",
        "birds1.fly()\n",
        "birds2 = Sparrow()\n",
        "birds2.fly()\n",
        "birds3 = penguin()\n",
        "birds3.fly()\n",
        "\n"
      ],
      "metadata": {
        "id": "yavXRfuntBox",
        "outputId": "9847bd4f-d207-4970-831e-00a04eb2c14b",
        "colab": {
          "base_uri": "https://localhost:8080/"
        }
      },
      "id": "yavXRfuntBox",
      "execution_count": 48,
      "outputs": [
        {
          "output_type": "stream",
          "name": "stdout",
          "text": [
            "This bird can fly \n",
            " sparrow gracefully fly through the sky \n",
            "penguins cannot fly, they waddle and swim \n"
          ]
        }
      ]
    },
    {
      "cell_type": "code",
      "source": [
        "#(5)\n",
        "class Bankaccount():\n",
        "  def __init__(self,balance):\n",
        "    self.__balance = balance\n",
        "\n",
        "  def withdraw(self,amount):\n",
        "    if 0 < amount <= self.__balance:\n",
        "      print(f\"yes,you can withdraw : {amount}\")\n",
        "    else:\n",
        "      print(f\"no,you cannot withdraw : {amount}\")\n",
        "      self.__balance -= amount\n",
        "      print(f\"your remaining balance is:{self.__balance}\")\n",
        "\n",
        "  def deposite(self,amount):\n",
        "    self.__balance += amount\n",
        "    print(f\"you deposted : {amount} , now your balance is : {self.__balance}\")\n",
        "\n",
        "  def cheak_balance(self,account_no):\n",
        "    self.amount_no = amount_no\n",
        "    print(f\"your accunt balance is : {self.balance}\")\n",
        "\n",
        "Bankaccount = Bankaccount(deposite,1000)\n",
        "\n"
      ],
      "metadata": {
        "id": "Kmuttk9xtgN_",
        "outputId": "73efc2b5-487b-423e-f2a6-6087e0b11ad7",
        "colab": {
          "base_uri": "https://localhost:8080/",
          "height": 193
        }
      },
      "id": "Kmuttk9xtgN_",
      "execution_count": 51,
      "outputs": [
        {
          "output_type": "error",
          "ename": "NameError",
          "evalue": "name 'deposite' is not defined",
          "traceback": [
            "\u001b[0;31m---------------------------------------------------------------------------\u001b[0m",
            "\u001b[0;31mNameError\u001b[0m                                 Traceback (most recent call last)",
            "\u001b[0;32m/tmp/ipython-input-3917225317.py\u001b[0m in \u001b[0;36m<cell line: 0>\u001b[0;34m()\u001b[0m\n\u001b[1;32m     20\u001b[0m     \u001b[0mprint\u001b[0m\u001b[0;34m(\u001b[0m\u001b[0;34mf\"your accunt balance is : {self.balance}\"\u001b[0m\u001b[0;34m)\u001b[0m\u001b[0;34m\u001b[0m\u001b[0;34m\u001b[0m\u001b[0m\n\u001b[1;32m     21\u001b[0m \u001b[0;34m\u001b[0m\u001b[0m\n\u001b[0;32m---> 22\u001b[0;31m \u001b[0mBankaccount\u001b[0m \u001b[0;34m=\u001b[0m \u001b[0mBankaccount\u001b[0m\u001b[0;34m(\u001b[0m\u001b[0mdeposite\u001b[0m\u001b[0;34m,\u001b[0m\u001b[0;36m1000\u001b[0m\u001b[0;34m)\u001b[0m\u001b[0;34m\u001b[0m\u001b[0;34m\u001b[0m\u001b[0m\n\u001b[0m\u001b[1;32m     23\u001b[0m \u001b[0;34m\u001b[0m\u001b[0m\n",
            "\u001b[0;31mNameError\u001b[0m: name 'deposite' is not defined"
          ]
        }
      ]
    },
    {
      "cell_type": "code",
      "source": [
        "#(6)\n",
        "class Instrument():\n",
        "  def play(self):\n",
        "    print(\"an instrument is palying a sound .\")\n",
        "class Piano(Instrument):\n",
        "  def play(self):\n",
        "    print(\"the  pianois playing a harmonious tune.\")\n",
        "class Guitar(Instrument):\n",
        "  def play(self):\n",
        "    print(\"the guitar  is strumming a melody.\")\n",
        "\n",
        "instrument = Instrument()\n",
        "guitar = Guitar()\n",
        "piano = Piano()\n",
        "instrument.play()\n",
        "guitar.play()\n",
        "piano.play()"
      ],
      "metadata": {
        "id": "W33pdebhBo53",
        "outputId": "21763c13-dcdb-491f-ed90-974021917c37",
        "colab": {
          "base_uri": "https://localhost:8080/"
        }
      },
      "id": "W33pdebhBo53",
      "execution_count": 59,
      "outputs": [
        {
          "output_type": "stream",
          "name": "stdout",
          "text": [
            "every instrument implement there own version of play \n",
            "the style guitar  play such as :  Jazz, Pop,\n",
            "the style piano play such as : classical, electric \n"
          ]
        }
      ]
    }
  ],
  "metadata": {
    "kernelspec": {
      "display_name": "Python 3",
      "name": "python3"
    },
    "language_info": {
      "name": "python"
    },
    "required_libs": [],
    "colab": {
      "provenance": []
    }
  },
  "nbformat": 4,
  "nbformat_minor": 5
}