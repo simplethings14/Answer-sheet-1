{
  "cells": [
    {
      "cell_type": "code",
      "source": [
        "#(1) Python is a popular, high-level, general-purpose programming language known for its readable, English-like syntax and versatility, which makes it easy to learn and use for tasks like web development, data science, automation, artificial intelligence, and software development."
      ],
      "metadata": {
        "id": "yLm1iYCljQAh"
      },
      "id": "yLm1iYCljQAh",
      "execution_count": null,
      "outputs": []
    },
    {
      "cell_type": "code",
      "source": [
        "#(2) An interpreter in Python is a program that directly executes Python code.b"
      ],
      "metadata": {
        "id": "OWKHjIu4jWrP"
      },
      "id": "OWKHjIu4jWrP",
      "execution_count": null,
      "outputs": []
    },
    {
      "cell_type": "code",
      "source": [
        "#(3) Pre-defined keywords in Python are reserved words that have special meanings and functionalities within the language."
      ],
      "metadata": {
        "id": "rw1SzDgEjp0r"
      },
      "id": "rw1SzDgEjp0r",
      "execution_count": null,
      "outputs": []
    },
    {
      "cell_type": "code",
      "source": [
        "#(4)No, you cannot use keywords as variable names"
      ],
      "metadata": {
        "id": "a3yvtwgNjqbU"
      },
      "id": "a3yvtwgNjqbU",
      "execution_count": null,
      "outputs": []
    },
    {
      "cell_type": "code",
      "source": [
        "#(5)mutability refers to whether an object's state can be changed after it is created. T"
      ],
      "metadata": {
        "id": "a1g-0sNikvxS"
      },
      "id": "a1g-0sNikvxS",
      "execution_count": null,
      "outputs": []
    },
    {
      "cell_type": "code",
      "source": [
        "#(6)Lists are mutable by design to allow for dynamic data manipulation, while tuples are immutable to ensure data integrity and to enable certain performance optimizations."
      ],
      "metadata": {
        "id": "nIFWMnGXkwPg"
      },
      "id": "nIFWMnGXkwPg",
      "execution_count": null,
      "outputs": []
    },
    {
      "cell_type": "code",
      "source": [
        "#(7)== compares value, while is compares identity (memory location).\n",
        "#Two objects can have the same value but be different objects in memory (e.g., two distinct lists with identical elements), in which case == would return True but is would return False.\n",
        "#If a is b is True, then a == b will also always be True (since they are the same object, their values must also be the same). The reverse is not always true.\n",
        "#The is operator is commonly used for checking if an object is None, as None is a singleton object in Python. Using is None is generally preferred over == None for clarity and potential performance benefits."
      ],
      "metadata": {
        "id": "uzzMV_9TmTIq"
      },
      "id": "uzzMV_9TmTIq",
      "execution_count": null,
      "outputs": []
    },
    {
      "cell_type": "code",
      "source": [
        "#(8)Logical operators in Python are used to combine conditional statements and perform logical operations on Boolean values (True or False). They are essential for controlling the flow of a program based on multiple conditions"
      ],
      "metadata": {
        "id": "3FSbAGThnZv5"
      },
      "id": "3FSbAGThnZv5",
      "execution_count": null,
      "outputs": []
    },
    {
      "cell_type": "code",
      "source": [
        "#(9)Typecasting in Python, also known as type conversion, is the process of converting a value from one data type to another. This is often necessary when performing operations that require specific data types, such as arithmetic operations on numbers that might initially be stored as strings.\n",
        "# There are two main types of typecasting in Python:\n",
        "# 1. Implicit Type Conversion (Coercion): This occurs automatically by Python when performing operations involving different data types. Python attempts to convert one data type to another to avoid data loss. For example, when adding an integer and a float, Python implicitly converts the integer to a float before performing the addition, resulting in a float.\n",
        "# 2. Explicit Type Conversion (Type Casting): This is performed explicitly by the programmer using built-in functions to convert a value to a desired data type. This is used when Python's automatic conversion isn't sufficient or the programmer needs to ensure a specific data type for an operation. Common functions for explicit type casting include:\n",
        "int(): Converts to an integer.\n",
        "float(): Converts to a floating-point number.\n",
        "str(): Converts to a string.\n",
        "bool(): Converts to a boolean\n"
      ],
      "metadata": {
        "id": "hQlp_06HnrAC"
      },
      "id": "hQlp_06HnrAC",
      "execution_count": null,
      "outputs": []
    },
    {
      "cell_type": "code",
      "source": [
        "#(10)Implicit type casting (or widening conversion) is a automatic conversion by the compiler from a smaller data type to a larger one, which does not involve any data loss, while explicit type casting (or narrowing conversion) is a manual conversion performed by the programmer to force a larger data type into a smaller one, which may result in data loss or precision loss."
      ],
      "metadata": {
        "id": "UvRm-NWOpQNC"
      },
      "id": "UvRm-NWOpQNC",
      "execution_count": null,
      "outputs": []
    },
    {
      "cell_type": "code",
      "source": [
        "#(11)Key purposes of conditional statements\n",
        "#Controlling the flow of logic: Without conditionals, a Python program would run from top to bottom, executing the same code every time. Conditional statements introduce \"branching\" in the code, so that the program can follow different paths depending on a condition.\n",
        "#Example: In a user login system, an if-else statement checks if the entered password is correct. If the condition is true, access is granted. Otherwise, it is denied.\n",
        "#Handling different inputs and scenarios: Programs often need to react differently to various user inputs, data values, or internal states. Conditional logic allows you to manage these distinct scenarios.\n",
        "#Example: An if-elif-else chain can be used to categorize a student's score into different letter grades (e.g., A, B, C).\n",
        "#Building robust applications: By anticipating different conditions, including potential errors, and explicitly coding how the program should react, you can make your applications more resilient.\n",
        "#Example: You can use an if-else statement to check if an item is in stock before processing an order, preventing a transaction that cannot be fulfilled.\n",
        "#Automating decisions: Conditional statements allow programs to make choices without human intervention. This is essential for automating tasks, from simple file sorting to complex machine learning algorithms.\n",
        "#Example: A program could use an if statement to sort new files into different folders based on their file type.\n",
        "#Simplifying code complexity: By using structured if-elif-else statements, you can handle multiple, related conditions cleanly, often replacing more complex nested conditional blocks with more readable code"
      ],
      "metadata": {
        "id": "bJhSjR8n9oZK"
      },
      "id": "bJhSjR8n9oZK",
      "execution_count": null,
      "outputs": []
    },
    {
      "cell_type": "code",
      "source": [
        "#(13) The main difference is that a for loop is used when the number of iterations is known (e.g., counting from 1 to 10), while a while loop is used when the number of iterations is unknown and depends on a dynamic condition being met (e.g., waiting for user input). For loops provide a concise structure for initialization, condition, and increment, whereas while loops focus solely on executing code as long as a Boolean condition remains true."
      ],
      "metadata": {
        "id": "GbTC6gHzC1H0"
      },
      "id": "GbTC6gHzC1H0",
      "execution_count": null,
      "outputs": []
    },
    {
      "cell_type": "code",
      "source": [
        "#(14)A while loop is more suitable than a for loop in scenarios where the number of iterations is unknown or depends on a dynamic condition that changes during the loop's execution."
      ],
      "metadata": {
        "id": "CHYW1YivC1pB"
      },
      "id": "CHYW1YivC1pB",
      "execution_count": null,
      "outputs": []
    },
    {
      "cell_type": "code",
      "source": [
        "#practical question"
      ],
      "metadata": {
        "id": "r2NLuL04EkDY"
      },
      "id": "r2NLuL04EkDY",
      "execution_count": null,
      "outputs": []
    },
    {
      "cell_type": "code",
      "source": [
        "#(1)\n",
        "print(\"Hello, World!\")"
      ],
      "metadata": {
        "id": "aajFA65fEvbv"
      },
      "id": "aajFA65fEvbv",
      "execution_count": null,
      "outputs": []
    },
    {
      "cell_type": "code",
      "source": [
        "#(2)\n",
        "name = \"Jane Doe\"\n",
        "age = 30\n",
        "\n",
        "# Use an f-string for a clean, readable output\n",
        "print(f\"My name is {name} and I am {age} years old.\")\n",
        "\n"
      ],
      "metadata": {
        "id": "BbGemSKlEvWz"
      },
      "execution_count": null,
      "outputs": [],
      "id": "BbGemSKlEvWz"
    },
    {
      "cell_type": "code",
      "source": [
        "#(3)\n",
        "import keyword\n",
        "\n",
        "print(keyword.kwlist)\n",
        "\n",
        "print(\"\\nList of all Python keywords:\")\n",
        "for kw in keyword.kwlist:\n",
        "    print(kw)\n",
        "\n"
      ],
      "metadata": {
        "id": "iH_g2PT6EvJY"
      },
      "id": "iH_g2PT6EvJY",
      "execution_count": null,
      "outputs": []
    },
    {
      "cell_type": "code",
      "source": [
        "#(4)\n",
        "import keyword\n",
        "\n",
        "word = input(\"Enter a word to check if it is a Python keyword: \")\n",
        "\n",
        "if keyword.iskeyword(word):\n",
        "    print(f\"'{word}' is a Python keyword.\")\n",
        "else:\n",
        "    print(f\"'{word}' is not a Python keyword.\")\n"
      ],
      "metadata": {
        "collapsed": true,
        "id": "-v-CF0K5Eu6m"
      },
      "id": "-v-CF0K5Eu6m",
      "execution_count": null,
      "outputs": []
    },
    {
      "cell_type": "code",
      "source": [
        "#(5)\n",
        "# Create a list\n",
        "my_list = [10, 20, 30, 40]\n",
        "print(f\"Original list: {my_list}\")\n",
        "\n",
        "# Change an element\n",
        "my_list[1] = 25\n",
        "print(f\"List after changing an element: {my_list}\")\n",
        "\n",
        "# Add an element\n",
        "my_list.append(50)\n",
        "print(f\"List after adding an element: {my_list}\")"
      ],
      "metadata": {
        "id": "C73aQFIAEuuC"
      },
      "id": "C73aQFIAEuuC",
      "execution_count": null,
      "outputs": []
    },
    {
      "cell_type": "code",
      "source": [
        "#(6)\n",
        "# Demonstrate with a mutable argument (list)\n",
        "print(\"--- Demonstrating Mutable Argument ---\")\n",
        "original_list = [1, 2, 3]\n",
        "print(f\"Before function call: {original_list}\")\n",
        "modify_mutable(original_list)\n",
        "print(f\"After function call: {original_list}\\n\")  # Note the change persists\n",
        "\n",
        "# Demonstrate with an immutable argument (string)\n",
        "print(\"--- Demonstrating Immutable Argument ---\")\n",
        "original_string = \"Hello\"\n",
        "print(f\"Before function call: {original_string}\")\n",
        "modify_immutable(original_string)\n",
        "print(f\"After function call: {original_string}\")  # Note the original remains unchanged\n",
        "\n"
      ],
      "metadata": {
        "id": "YQgzuycHEub6"
      },
      "id": "YQgzuycHEub6",
      "execution_count": null,
      "outputs": []
    },
    {
      "cell_type": "code",
      "source": [
        "#(7)\n",
        "# Get input from the user for the first number\n",
        "num1 = float(input(\"Enter the first number: \"))\n",
        "\n",
        "# Get input from the user for the second number\n",
        "num2 = float(input(\"Enter the second number: \"))\n",
        "\n",
        "# Perform arithmetic operations\n",
        "addition = num1 + num2\n",
        "subtraction = num1 - num2\n",
        "multiplication = num1 * num2\n",
        "\n",
        "# Handle division by zero\n",
        "if num2 != 0:\n",
        "    division = num1 / num2\n",
        "else:\n",
        "    division = \"Cannot divide by zero\"\n",
        "\n",
        "# Display the results\n",
        "print(f\"Addition: {addition}\")\n",
        "print(f\"Subtraction: {subtraction}\")\n",
        "print(f\"Multiplication: {multiplication}\")\n",
        "print(f\"Division: {division}\")"
      ],
      "metadata": {
        "id": "9kCicvxPIiYI"
      },
      "id": "9kCicvxPIiYI",
      "execution_count": null,
      "outputs": []
    },
    {
      "cell_type": "code",
      "source": [
        "#(8)\n",
        "def convert_user_input():\n",
        "    \"\"\"\n",
        "    Converts user input from string to integer, float, and boolean types.\n",
        "    Includes error handling for invalid input formats.\n",
        "    \"\"\"\n",
        "    # Get string input\n",
        "    string_input = input(\"Enter a string: \")\n",
        "    print(f\"Original string: '{string_input}', Type: {type(string_input)}\")\n",
        "\n",
        "    # Convert to integer\n",
        "    try:\n",
        "        int_input = int(input(\"Enter an integer: \"))\n",
        "        print(f\"Converted integer: {int_input}, Type: {type(int_input)}\")\n",
        "    except ValueError:\n",
        "        print(\"Error: Invalid input for integer. Please enter a whole number.\")\n",
        "\n",
        "    # Convert to float\n",
        "    try:\n",
        "        float_input = float(input(\"Enter a floating-point number: \"))\n",
        "        print(f\"Converted float: {float_input}, Type: {type(float_input)}\")\n",
        "    except ValueError:\n",
        "        print(\"Error: Invalid input for float. Please enter a number with or without decimal points.\")\n",
        "\n",
        "    # Convert to boolean\n",
        "    # A string is considered True if it's not empty, and False if it's empty.\n",
        "    # For user input, a common convention is to check for specific string values like \"true\" or \"false\".\n",
        "    boolean_str = input(\"Enter a boolean value (e.g., 'True', 'False', '1', '0'): \").strip().lower()\n",
        "    if boolean_str in ('true', '1', 'yes', 'y'):\n",
        "        boolean_input = True\n",
        "    elif boolean_str in ('false', '0', 'no', 'n'):\n",
        "        boolean_input = False\n",
        "    else:\n",
        "        # If the input doesn't match common boolean representations, default to False or handle as needed\n",
        "        boolean_input = False\n",
        "        print(\"Warning: Input not recognized as a standard boolean representation. Defaulting to False.\")\n",
        "\n",
        "    print(f\"Converted boolean: {boolean_input}, Type: {type(boolean_input)}\")\n",
        "\n",
        "# Call the function to execute the program\n",
        "convert_user_input()"
      ],
      "metadata": {
        "id": "SQv2yvTeJP7G"
      },
      "id": "SQv2yvTeJP7G",
      "execution_count": null,
      "outputs": []
    },
    {
      "cell_type": "code",
      "source": [
        "#(10)\n",
        "# Original list with mixed data types\n",
        "original_list = [\"1\", 2, \"3.5\", 4.0]\n",
        "\n",
        "# Type cast all elements to integers\n",
        "int_list = [int(float(item)) if isinstance(item, str) and '.' in item else int(item) for item in original_list]\n",
        "print(f\"List after casting to integers: {int_list}\")\n",
        "\n",
        "# Type cast all elements to strings\n",
        "str_list = [str(item) for item in original_list]\n",
        "print(f\"List after casting to strings: {str_list}\")\n",
        "\n",
        "# Type cast all elements to floats\n",
        "float_list = [float(item) for item in original_list]\n",
        "print(f\"List after casting to floats: {float_list}\")\n"
      ],
      "metadata": {
        "id": "YBMeCrC5KC-B"
      },
      "id": "YBMeCrC5KC-B",
      "execution_count": null,
      "outputs": []
    },
    {
      "cell_type": "code",
      "source": [
        "#(11)\n",
        "def check_number_sign(number):\n",
        "\n",
        "    if number > 0:\n",
        "        return \"Positive\"\n",
        "    elif number < 0:\n",
        "        return \"Negative\"\n",
        "    else:\n",
        "        return \"Zero\"\n",
        "\n",
        "# Example usage:\n",
        "num1 = 10\n",
        "print(f\"The number {num1} is: {check_number_sign(num1)}\")\n",
        "\n",
        "num2 = -5\n",
        "print(f\"The number {num2} is: {check_number_sign(num2)}\")\n",
        "\n",
        "num3 = 0\n",
        "print(f\"The number {num3} is: {check_number_sign(num3)}\")\n",
        "\n",
        "num4 = float(input(\"Enter a number: \"))\n",
        "print(f\"The number {num4} is: {check_number_sign(num4)}\")"
      ],
      "metadata": {
        "id": "2UvPr9AMKCzI"
      },
      "id": "2UvPr9AMKCzI",
      "execution_count": null,
      "outputs": []
    },
    {
      "cell_type": "code",
      "source": [
        "#(12)\n",
        "for i in range(1, 11):\n",
        "    print(i)"
      ],
      "metadata": {
        "id": "9dbD2aVJKCpC"
      },
      "id": "9dbD2aVJKCpC",
      "execution_count": null,
      "outputs": []
    },
    {
      "cell_type": "code",
      "source": [
        "#(13)\n",
        "total_sum = 0\n",
        "for number in range(2, 51, 2):  # Start from 2, go up to (but not including) 51, step by 2\n",
        "    total_sum += number\n",
        "print(f\"The sum of even numbers between 1 and 50 is: {total_sum}\")\n"
      ],
      "metadata": {
        "id": "_TQTkMDRKCbY"
      },
      "id": "_TQTkMDRKCbY",
      "execution_count": null,
      "outputs": []
    },
    {
      "cell_type": "code",
      "source": [
        "#(14)\n",
        "def reverse_string_while_loop(input_string):\n",
        "\n",
        "    reversed_string = \"\"\n",
        "    index = len(input_string) - 1  # Start from the last character's index\n",
        "\n",
        "    while index >= 0:\n",
        "        reversed_string += input_string[index]\n",
        "        index -= 1  # Move to the previous character\n",
        "\n",
        "    return reversed_string\n",
        "\n",
        "# Example usage:\n",
        "original_str = \"hello\"\n",
        "reversed_str = reverse_string_while_loop(original_str)\n",
        "print(f\"Original string: {original_str}\")\n",
        "print(f\"Reversed string: {reversed_str}\")\n",
        "\n",
        "original_str_2 = \"Python\"\n",
        "reversed_str_2 = reverse_string_while_loop(original_str_2)\n",
        "print(f\"Original string: {original_str_2}\")\n",
        "print(f\"Reversed string: {reversed_str_2}\")"
      ],
      "metadata": {
        "id": "N3LAdr5QLD4k"
      },
      "id": "N3LAdr5QLD4k",
      "execution_count": null,
      "outputs": []
    }
  ],
  "metadata": {
    "kernelspec": {
      "display_name": "Python 3",
      "name": "python3"
    },
    "language_info": {
      "name": "python"
    },
    "required_libs": [],
    "colab": {
      "provenance": []
    }
  },
  "nbformat": 4,
  "nbformat_minor": 5
}